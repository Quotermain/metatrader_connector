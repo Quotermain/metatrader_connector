{
 "cells": [
  {
   "cell_type": "code",
   "execution_count": 1,
   "metadata": {},
   "outputs": [],
   "source": [
    "import pickle\n",
    "from utils.get_candles import get_candles"
   ]
  },
  {
   "cell_type": "code",
   "execution_count": 2,
   "metadata": {},
   "outputs": [],
   "source": [
    "with open('data/tickers/rus_stocks.pickle', 'rb') as file:\n",
    "    RUS_STOCKS = pickle.load(file)    \n",
    "with open('data/tickers/currencies.pickle', 'rb') as file:\n",
    "    CURRENCIES = pickle.load(file)\n",
    "with open('data/tickers/usa_stocks.pickle', 'rb') as file:\n",
    "    USA_STOCKS = pickle.load(file)\n",
    "ALL_TICKERS = RUS_STOCKS + CURRENCIES + USA_STOCKS"
   ]
  },
  {
   "cell_type": "markdown",
   "metadata": {},
   "source": [
    "# Calculates thresholds and dumps them to files"
   ]
  },
  {
   "cell_type": "code",
   "execution_count": 10,
   "metadata": {},
   "outputs": [],
   "source": [
    "open_close_day_dif = {}\n",
    "high_low_5min_dif = {}\n",
    "\n",
    "for ticker in ALL_TICKERS:\n",
    "    \n",
    "    df = get_candles(ticker, 'mt5.TIMEFRAME_D1', 50000)\n",
    "    mean = (abs(df.open - df.close) / df.open).mean()\n",
    "    std = (abs(df.open - df.close) / df.open).std()\n",
    "    open_close_day_dif[ticker] = mean + std\n",
    "    \n",
    "    df = get_candles(ticker, 'mt5.TIMEFRAME_M5', 50000)\n",
    "    mean = ((df.high - df.low) / df.low).mean()\n",
    "    #std = ((df.high - df.low) / df.low).std()\n",
    "    high_low_5min_dif[ticker] = mean"
   ]
  },
  {
   "cell_type": "code",
   "execution_count": 11,
   "metadata": {},
   "outputs": [],
   "source": [
    "with open('data/thresholds/open_close_day_dif.pickle', 'wb') as file:\n",
    "    pickle.dump(open_close_day_dif, file)\n",
    "with open('data/thresholds/high_low_5min_dif.pickle', 'wb') as file:\n",
    "    pickle.dump(high_low_5min_dif, file)"
   ]
  },
  {
   "cell_type": "code",
   "execution_count": null,
   "metadata": {},
   "outputs": [],
   "source": []
  },
  {
   "cell_type": "code",
   "execution_count": null,
   "metadata": {},
   "outputs": [],
   "source": []
  },
  {
   "cell_type": "code",
   "execution_count": null,
   "metadata": {},
   "outputs": [],
   "source": []
  }
 ],
 "metadata": {
  "kernelspec": {
   "display_name": "Python 3",
   "language": "python",
   "name": "python3"
  },
  "language_info": {
   "codemirror_mode": {
    "name": "ipython",
    "version": 3
   },
   "file_extension": ".py",
   "mimetype": "text/x-python",
   "name": "python",
   "nbconvert_exporter": "python",
   "pygments_lexer": "ipython3",
   "version": "3.9.1"
  }
 },
 "nbformat": 4,
 "nbformat_minor": 4
}
