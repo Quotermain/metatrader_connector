{
 "cells": [
  {
   "cell_type": "code",
   "execution_count": 43,
   "metadata": {},
   "outputs": [],
   "source": [
    "import pickle\n",
    "from utils.get_candles import get_candles\n",
    "import pandas as pd\n",
    "import numpy as np\n",
    "from pandas.tseries.offsets import DateOffset\n",
    "import MetaTrader5 as mt5\n",
    "\n",
    "if not mt5.initialize():\n",
    "        print(\"initialize() failed, error code =\", mt5.last_error())\n",
    "        quit()"
   ]
  },
  {
   "cell_type": "code",
   "execution_count": 2,
   "metadata": {},
   "outputs": [],
   "source": [
    "with open('data/tickers/rus_stocks.pickle', 'rb') as file:\n",
    "    RUS_STOCKS = pickle.load(file)    \n",
    "with open('data/tickers/currencies.pickle', 'rb') as file:\n",
    "    CURRENCIES = pickle.load(file)\n",
    "with open('data/tickers/usa_stocks.pickle', 'rb') as file:\n",
    "    USA_STOCKS = pickle.load(file)\n",
    "ALL_TICKERS = RUS_STOCKS + CURRENCIES + USA_STOCKS"
   ]
  },
  {
   "cell_type": "code",
   "execution_count": 44,
   "metadata": {},
   "outputs": [],
   "source": [
    "ALL_TICKERS = [\n",
    "    info.name for info in mt5.symbols_get() \n",
    "    if info.trade_mode != 0 and info.trade_mode != 3\n",
    "]"
   ]
  },
  {
   "cell_type": "markdown",
   "metadata": {},
   "source": [
    "# Calculates thresholds and dumps them to files"
   ]
  },
  {
   "cell_type": "code",
   "execution_count": 6,
   "metadata": {},
   "outputs": [],
   "source": [
    "'''open_close_week_dif_mean = {}\n",
    "open_close_week_dif_std = {}\n",
    "\n",
    "open_close_day_dif_mean = {}\n",
    "open_close_day_dif_std = {}\n",
    "\n",
    "open_close_hour_dif_mean = {}\n",
    "open_close_hour_dif_std = {}\n",
    "\n",
    "open_close_5min_dif_mean = {}\n",
    "open_close_5min_dif_std = {}\n",
    "\n",
    "open_close_1min_dif_mean = {}\n",
    "open_close_1min_dif_std = {}'''\n",
    "\n",
    "problem_tickers = []\n",
    "\n",
    "for ticker in ALL_TICKERS:\n",
    "    \n",
    "    if ticker not in open_close_5min_dif_mean:\n",
    "    \n",
    "        try:\n",
    "            \n",
    "            df = get_candles(ticker, 'mt5.TIMEFRAME_W1', 50000)\n",
    "            mean = (abs(df.open - df.close) / df.open).mean()\n",
    "            std = (abs(df.open - df.close) / df.open).std()\n",
    "            open_close_week_dif_mean[ticker] = mean\n",
    "            open_close_week_dif_std[ticker] = std\n",
    "            \n",
    "            df = get_candles(ticker, 'mt5.TIMEFRAME_D1', 50000)\n",
    "            mean = (abs(df.open - df.close) / df.open).mean()\n",
    "            std = (abs(df.open - df.close) / df.open).std()\n",
    "            open_close_day_dif_mean[ticker] = mean\n",
    "            open_close_day_dif_std[ticker] = std\n",
    "            \n",
    "            df = get_candles(ticker, 'mt5.TIMEFRAME_H1', 50000)\n",
    "            mean = (abs(df.open - df.close) / df.open).mean()\n",
    "            std = (abs(df.open - df.close) / df.open).std()\n",
    "            open_close_hour_dif_mean[ticker] = mean\n",
    "            open_close_hour_dif_std[ticker] = std\n",
    "\n",
    "            df = get_candles(ticker, 'mt5.TIMEFRAME_M5', 50000)\n",
    "            mean = (abs(df.open - df.close) / df.open).mean()\n",
    "            std = (abs(df.open - df.close) / df.open).std()\n",
    "            open_close_5min_dif_mean[ticker] = mean\n",
    "            open_close_5min_dif_std[ticker] = std\n",
    "            \n",
    "            df = get_candles(ticker, 'mt5.TIMEFRAME_M1', 50000)\n",
    "            mean = (abs(df.open - df.close) / df.open).mean()\n",
    "            std = (abs(df.open - df.close) / df.open).std()\n",
    "            open_close_1min_dif_mean[ticker] = mean\n",
    "            open_close_1min_dif_std[ticker] = std\n",
    "\n",
    "        except Exception as e:\n",
    "            problem_tickers.append(ticker)\n",
    "            print(ticker)\n",
    "            print(e)\n",
    "            continue"
   ]
  },
  {
   "cell_type": "code",
   "execution_count": 7,
   "metadata": {},
   "outputs": [
    {
     "name": "stdout",
     "output_type": "stream",
     "text": [
      "SBER week_dif_mean:  0.041333379967973094\n",
      "SBER week_dif_std:  0.04909527357978769\n",
      "SBER day_dif_mean:  0.017496860282688577\n",
      "SBER day_dif_std:  0.020268754399912815\n",
      "SBER hour_dif_mean:  0.007274225260892021\n",
      "SBER hour_dif_std:  0.013183863592439397\n",
      "SBER 5min_dif_mean:  0.0008860988908033461\n",
      "SBER 5min_dif_std:  0.001130264778558219\n",
      "SBER 1min_dif_mean:  0.00037938650390286226\n",
      "SBER 1min_dif_std:  0.00044402589555555264\n"
     ]
    }
   ],
   "source": [
    "print('SBER week_dif_mean: ', open_close_week_dif_mean['SBER.MM'])\n",
    "print('SBER week_dif_std: ', open_close_week_dif_std['SBER.MM'])\n",
    "print('SBER day_dif_mean: ', open_close_day_dif_mean['SBER.MM'])\n",
    "print('SBER day_dif_std: ', open_close_day_dif_std['SBER.MM'])\n",
    "print('SBER hour_dif_mean: ', open_close_hour_dif_mean['SBER.MM'])\n",
    "print('SBER hour_dif_std: ', open_close_hour_dif_std['SBER.MM'])\n",
    "print('SBER 5min_dif_mean: ', open_close_5min_dif_mean['SBER.MM'])\n",
    "print('SBER 5min_dif_std: ', open_close_5min_dif_std['SBER.MM'])\n",
    "print('SBER 1min_dif_mean: ', open_close_1min_dif_mean['SBER.MM'])\n",
    "print('SBER 1min_dif_std: ', open_close_1min_dif_std['SBER.MM'])"
   ]
  },
  {
   "cell_type": "code",
   "execution_count": 8,
   "metadata": {},
   "outputs": [
    {
     "name": "stdout",
     "output_type": "stream",
     "text": [
      "NVTK week_dif_mean:  0.03469425860590822\n",
      "NVTK week_dif_std:  0.03520910179053331\n",
      "NVTK day_dif_mean:  0.015200864925764546\n",
      "NVTK day_dif_std:  0.016253151208946052\n",
      "NVTK hour_dif_mean:  0.0058455716792955165\n",
      "NVTK hour_dif_std:  0.009385209041160313\n",
      "NVTK 5min_dif_mean:  0.0011490040643059934\n",
      "NVTK 5min_dif_std:  0.0016189449121368222\n",
      "NVTK 1min_dif_mean:  0.0004990689790384508\n",
      "NVTK 1min_dif_std:  0.0006200122768406224\n"
     ]
    }
   ],
   "source": [
    "print('NVTK week_dif_mean: ', open_close_week_dif_mean['NVTK.MM'])\n",
    "print('NVTK week_dif_std: ', open_close_week_dif_std['NVTK.MM'])\n",
    "print('NVTK day_dif_mean: ', open_close_day_dif_mean['NVTK.MM'])\n",
    "print('NVTK day_dif_std: ', open_close_day_dif_std['NVTK.MM'])\n",
    "print('NVTK hour_dif_mean: ', open_close_hour_dif_mean['NVTK.MM'])\n",
    "print('NVTK hour_dif_std: ', open_close_hour_dif_std['NVTK.MM'])\n",
    "print('NVTK 5min_dif_mean: ', open_close_5min_dif_mean['NVTK.MM'])\n",
    "print('NVTK 5min_dif_std: ', open_close_5min_dif_std['NVTK.MM'])\n",
    "print('NVTK 1min_dif_mean: ', open_close_1min_dif_mean['NVTK.MM'])\n",
    "print('NVTK 1min_dif_std: ', open_close_1min_dif_std['NVTK.MM'])"
   ]
  },
  {
   "cell_type": "code",
   "execution_count": 9,
   "metadata": {},
   "outputs": [],
   "source": [
    "with open('data/thresholds/open_close_week_dif_mean.pickle', 'wb') as file:\n",
    "    pickle.dump(open_close_week_dif_mean, file)\n",
    "with open('data/thresholds/open_close_week_dif_std.pickle', 'wb') as file:\n",
    "    pickle.dump(open_close_week_dif_std, file)\n",
    "with open('data/thresholds/open_close_day_dif_mean.pickle', 'wb') as file:\n",
    "    pickle.dump(open_close_day_dif_mean, file)\n",
    "with open('data/thresholds/open_close_day_dif_std.pickle', 'wb') as file:\n",
    "    pickle.dump(open_close_day_dif_std, file)\n",
    "with open('data/thresholds/open_close_hour_dif_mean.pickle', 'wb') as file:\n",
    "    pickle.dump(open_close_hour_dif_mean, file)\n",
    "with open('data/thresholds/open_close_hour_dif_std.pickle', 'wb') as file:\n",
    "    pickle.dump(open_close_hour_dif_std, file)\n",
    "with open('data/thresholds/open_close_5min_dif_mean.pickle', 'wb') as file:\n",
    "    pickle.dump(open_close_5min_dif_mean, file)\n",
    "with open('data/thresholds/open_close_5min_dif_std.pickle', 'wb') as file:\n",
    "    pickle.dump(open_close_5min_dif_std, file)\n",
    "with open('data/thresholds/open_close_1min_dif_mean.pickle', 'wb') as file:\n",
    "    pickle.dump(open_close_1min_dif_mean, file)\n",
    "with open('data/thresholds/open_close_1min_dif_std.pickle', 'wb') as file:\n",
    "    pickle.dump(open_close_1min_dif_std, file)"
   ]
  }
 ],
 "metadata": {
  "kernelspec": {
   "display_name": "Python 3",
   "language": "python",
   "name": "python3"
  },
  "language_info": {
   "codemirror_mode": {
    "name": "ipython",
    "version": 3
   },
   "file_extension": ".py",
   "mimetype": "text/x-python",
   "name": "python",
   "nbconvert_exporter": "python",
   "pygments_lexer": "ipython3",
   "version": "3.9.1"
  }
 },
 "nbformat": 4,
 "nbformat_minor": 4
}
